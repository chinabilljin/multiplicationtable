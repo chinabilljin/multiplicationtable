{
  "nbformat": 4,
  "nbformat_minor": 0,
  "metadata": {
    "colab": {
      "provenance": []
    },
    "kernelspec": {
      "name": "python3",
      "display_name": "Python 3"
    },
    "language_info": {
      "name": "python"
    }
  },
  "cells": [
    {
      "cell_type": "code",
      "execution_count": null,
      "metadata": {
        "id": "bNHv7HsK9qBg"
      },
      "outputs": [],
      "source": [
        "\n",
        "for i in range(1,10):\n",
        "  stmp = \"\"\n",
        "  for j in range (i,10):\n",
        "     a = f'{i}*{j}={i*j}'\n",
        "     stmp += ( f'{i}*{j}={i*j}')\n",
        "     if len(a) ==5:\n",
        "       stmp += \"    \"\n",
        "     else:\n",
        "       stmp += \"   \"\n",
        "  print(f\"{stmp}\\r\")"
      ]
    }
  ]
}
