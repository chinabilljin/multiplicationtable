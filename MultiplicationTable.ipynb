{
  "nbformat": 4,
  "nbformat_minor": 0,
  "metadata": {
    "colab": {
      "provenance": []
    },
    "kernelspec": {
      "name": "python3",
      "display_name": "Python 3"
    },
    "language_info": {
      "name": "python"
    }
  },
  "cells": [
    {
      "cell_type": "code",
      "execution_count": null,
      "metadata": {
        "id": "fsaOsY9NwdLG"
      },
      "outputs": [],
      "source": [
        "\"\"\"\n",
        "stmp = \"x     \"\n",
        "for i in range (0,13):\n",
        "  stmp += f'{i}'\n",
        "  if i<10:\n",
        "    stmp += \"     \"\n",
        "  else:\n",
        "    stmp += \"    \"\n",
        "print (stmp)\n",
        "\"\"\"\n",
        "\n",
        "for i in range(0,13):\n",
        "  stmp = \"\"   # please comment this statement if bwlow statement is activated\n",
        "  \"\"\"\n",
        "  stmp = f'{i}'\n",
        "  if len(stmp) == 1:\n",
        "    stmp += \"     \"\n",
        "  else:\n",
        "    stmp += \"    \"\n",
        "  \"\"\"\n",
        "\n",
        "  for j in range (0,13):\n",
        "     a = f'{i*j}'\n",
        "     #stmp += ( f'{i}*{j}={i*j}')\n",
        "     stmp += a\n",
        "\n",
        "     if len(a) == 1:\n",
        "       stmp += \"     \"\n",
        "     elif len(a) == 2:\n",
        "       stmp += \"    \"\n",
        "     else:\n",
        "       stmp += \"   \"\n",
        "\n",
        "  print(f\"{stmp}\\r\")"
      ]
    }
  ]
}