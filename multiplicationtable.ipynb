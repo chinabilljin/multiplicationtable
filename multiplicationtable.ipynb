for i in range(1,10):
  stmp = ""
  for j in range (i,10):
     a = f'{i}*{j}={i*j}'
     stmp += ( f'{i}*{j}={i*j}')
     if len(a) ==5:
       stmp += "    "
     else:
       stmp += "   "
  print(f"{stmp}\r")
